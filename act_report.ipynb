{
 "cells": [
  {
   "cell_type": "markdown",
   "metadata": {},
   "source": [
    "# [WeRateDogs](https://en.wikipedia.org/wiki/WeRateDogs) Insights For Dogs Lovers"
   ]
  },
  {
   "cell_type": "markdown",
   "metadata": {},
   "source": [
    "<img src=\"1.jpg\" />"
   ]
  },
  {
   "cell_type": "markdown",
   "metadata": {},
   "source": [
    "__WeRateDogs is a Twitter account that rates people's dogs with a humorous comment about the dog. These ratings almost always have a denominator of 10. The numerators, though? Almost always greater than 10. 11/10, 12/10, 13/10, etc. Why? Because [\"they're good dogs Brent.\"](http://knowyourmeme.com/memes/theyre-good-dogs-brent) If you are a dogs lover like me; the insights cleaned from this tweeter account data introduces some intersting facts about dogs and dogs lovers behaviour towards thier posts that mostly features dogs' photos in it__"
   ]
  },
  {
   "cell_type": "markdown",
   "metadata": {},
   "source": [
    "## 1- How is the interaction with the acount's posts doing over time ?"
   ]
  },
  {
   "cell_type": "markdown",
   "metadata": {},
   "source": [
    "__The interacion is usually defined in terms of favorites and retweets, In the line plot below \n",
    "there's an evident upward trend in the average monthly count of retwets and favorites attracted by WeRateDogs posts over the time of the analysis, People engagment with the posts is a great indicator of appeal of the content of the posts.__"
   ]
  },
  {
   "cell_type": "markdown",
   "metadata": {},
   "source": [
    "####   figure1 :  the average monthly retweets and favorite count\n",
    "<img src=\"2.png\" /> \n",
    "####   figure2 :  association between the favorite counts and retweets counts\n",
    "<img src=\"3.png\" />"
   ]
  },
  {
   "cell_type": "markdown",
   "metadata": {},
   "source": [
    "## 2- But, hold on for a second,this might be due t larger number of posts tweeted out be WeRatedDogs not the interestiong and engaging content "
   ]
  },
  {
   "cell_type": "markdown",
   "metadata": {},
   "source": [
    "__That's where the tweets monthly count over the time will clarify in figure3, the average number of posts tweeted out by we rated dogs on monthly basis was a bit lower than 100 posts per month as represented by the orange horizontal line.\n",
    "The overall monthly tweets released were consistently below this number ost of the time.\n",
    "This indicates that the posts content rather than counts is the driving force behing attracting increasing retweets and hiking avorites over time.\n",
    "So the content is the interiguing factor that leads to retweets and favorites.__"
   ]
  },
  {
   "cell_type": "markdown",
   "metadata": {},
   "source": [
    "####   figure3 :  Monthly tweeted out tweets by WeRatedDogs\n",
    "<img src=\"4.png\" />"
   ]
  },
  {
   "cell_type": "markdown",
   "metadata": {},
   "source": [
    "## 3- Another measure for the content quality is the rating of the posts, let's have a sneak peek on it."
   ]
  },
  {
   "cell_type": "markdown",
   "metadata": {},
   "source": [
    "__In genearal, the average rating for the posts was growing higher over time as illusrated in figure4.__"
   ]
  },
  {
   "cell_type": "markdown",
   "metadata": {},
   "source": [
    "####   figure4 :  Average rating of the tweeted-out tweets over time\n",
    "<img src=\"5.png\" />"
   ]
  },
  {
   "cell_type": "markdown",
   "metadata": {},
   "source": [
    "####   figure5 :  Average rating of the tweeted-out tweets over time\n",
    "<img src=\"6.png\" />"
   ]
  },
  {
   "cell_type": "markdown",
   "metadata": {},
   "source": [
    "## 4- The dogs stage has it's impact on the angagment "
   ]
  },
  {
   "cell_type": "markdown",
   "metadata": {},
   "source": [
    "####   figure6 : \n",
    "<img src=\"7.png\" />"
   ]
  }
 ],
 "metadata": {
  "kernelspec": {
   "display_name": "Python 3",
   "language": "python",
   "name": "python3"
  },
  "language_info": {
   "codemirror_mode": {
    "name": "ipython",
    "version": 3
   },
   "file_extension": ".py",
   "mimetype": "text/x-python",
   "name": "python",
   "nbconvert_exporter": "python",
   "pygments_lexer": "ipython3",
   "version": "3.7.6"
  }
 },
 "nbformat": 4,
 "nbformat_minor": 4
}
